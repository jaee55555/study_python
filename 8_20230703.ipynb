{
 "cells": [
  {
   "cell_type": "markdown",
   "metadata": {},
   "source": [
    "if문 공부하기"
   ]
  },
  {
   "cell_type": "code",
   "execution_count": 1,
   "metadata": {},
   "outputs": [
    {
     "name": "stdout",
     "output_type": "stream",
     "text": [
      "정식 세트를 먹어라\n"
     ]
    }
   ],
   "source": [
    "take_my_money = True\n",
    "if take_my_money:\n",
    "    print(\"정식 세트를 먹어라\")\n",
    "else:\n",
    "    print(\"도시락을 먹자\")"
   ]
  },
  {
   "cell_type": "code",
   "execution_count": 2,
   "metadata": {},
   "outputs": [
    {
     "name": "stdout",
     "output_type": "stream",
     "text": [
      "True\n",
      "False\n",
      "False\n",
      "True\n",
      "True\n",
      "False\n"
     ]
    }
   ],
   "source": [
    "a = 100\n",
    "b = 50\n",
    "\n",
    "print(b < a)\n",
    "print(a < b)\n",
    "print(a == b)\n",
    "print(a != b)\n",
    "print(b <= a)\n",
    "print(a <= b)"
   ]
  },
  {
   "cell_type": "code",
   "execution_count": 8,
   "metadata": {},
   "outputs": [
    {
     "name": "stdout",
     "output_type": "stream",
     "text": [
      "wait\n"
     ]
    }
   ],
   "source": [
    "apple = 5\n",
    "appear = False\n",
    "if apple and appear:\n",
    "    print(\"eat\")\n",
    "elif not appear:\n",
    "    print(\"wait\")\n",
    "else:\n",
    "    print(\"do not eat\")"
   ]
  },
  {
   "cell_type": "code",
   "execution_count": 9,
   "metadata": {},
   "outputs": [
    {
     "name": "stdout",
     "output_type": "stream",
     "text": [
      "3 is in a\n"
     ]
    }
   ],
   "source": [
    "a = [1,2,3,4,5]\n",
    "if 3 in a:\n",
    "    print(\"3 is in a\")\n",
    "else:\n",
    "    print(\"3 is not in a\")"
   ]
  },
  {
   "cell_type": "code",
   "execution_count": 11,
   "metadata": {},
   "outputs": [],
   "source": [
    "bag = [\"wallet\", \"paper\", \"watch\", \"sun glasses\"]\n",
    "if \"wallet\" in bag:\n",
    "    pass\n",
    "elif \"water\" in bag:\n",
    "    print(\"drink it\")\n",
    "elif \"sun glasses\" in bag:\n",
    "    print(\"take it\")\n",
    "else:\n",
    "    print(bag)"
   ]
  }
 ],
 "metadata": {
  "kernelspec": {
   "display_name": "Python 3",
   "language": "python",
   "name": "python3"
  },
  "language_info": {
   "codemirror_mode": {
    "name": "ipython",
    "version": 3
   },
   "file_extension": ".py",
   "mimetype": "text/x-python",
   "name": "python",
   "nbconvert_exporter": "python",
   "pygments_lexer": "ipython3",
   "version": "3.8.3"
  }
 },
 "nbformat": 4,
 "nbformat_minor": 4
}
